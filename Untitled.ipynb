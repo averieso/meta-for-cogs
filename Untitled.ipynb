{
 "cells": [
  {
   "cell_type": "code",
   "execution_count": 1,
   "metadata": {},
   "outputs": [],
   "source": [
    "import numpy as np\n",
    "import torch\n",
    "import torch.nn as nn\n",
    "import torch.nn.functional as F\n",
    "from torch.autograd import Variable as V\n",
    "import random\n"
   ]
  },
  {
   "cell_type": "code",
   "execution_count": 2,
   "metadata": {},
   "outputs": [],
   "source": [
    "from load_data import *\n",
    "from utils import *\n",
    "from training import *\n",
    "from models import *"
   ]
  },
  {
   "cell_type": "code",
   "execution_count": 3,
   "metadata": {},
   "outputs": [],
   "source": [
    "train_set = load_dataset_cv(\"cv.train\")\n",
    "dev_set = load_dataset_cv(\"cv.dev\")\n",
    "test_set = load_dataset_cv(\"cv.test\")"
   ]
  },
  {
   "cell_type": "code",
   "execution_count": null,
   "metadata": {},
   "outputs": [
    {
     "name": "stdout",
     "output_type": "stream",
     "text": [
      "('Dev accuracy at iteration 0:', 0.0)\n",
      "('Dev accuracy at iteration 1000:', 0.4986046511627907)\n",
      "('Dev accuracy at iteration 2000:', 0.765674418604653)\n",
      "('Dev accuracy at iteration 3000:', 0.8520000000000022)\n",
      "('Dev accuracy at iteration 4000:', 0.7807441860465127)\n",
      "('Dev accuracy at iteration 5000:', 0.9171162790697688)\n",
      "('Dev accuracy at iteration 6000:', 0.9597209302325603)\n",
      "('Dev accuracy at iteration 7000:', 0.9675813953488396)\n"
     ]
    }
   ],
   "source": [
    "CV_REPTILE = EncoderDecoder(6,6,10,128)\n",
    "\n",
    "\n",
    "maml(CV_REPTILE, train_set, dev_set, outer_batch_size=1, lr_inner=1.0, \n",
    "     print_every=1000, patience=2, save_prefix=\"cv_model\")\n"
   ]
  },
  {
   "cell_type": "code",
   "execution_count": null,
   "metadata": {},
   "outputs": [],
   "source": [
    "loaded_model = EncoderDecoder(6,6,10,128)\n",
    "loaded_model.load_state_dict(torch.load(\"cv_model.weights\"))"
   ]
  },
  {
   "cell_type": "code",
   "execution_count": null,
   "metadata": {},
   "outputs": [],
   "source": [
    "test_acc = average_acc(loaded_model, test_set, lr_inner=0.01, batch_size=100)\n",
    "test_acc\n"
   ]
  },
  {
   "cell_type": "code",
   "execution_count": null,
   "metadata": {},
   "outputs": [],
   "source": []
  },
  {
   "cell_type": "code",
   "execution_count": null,
   "metadata": {},
   "outputs": [],
   "source": []
  },
  {
   "cell_type": "code",
   "execution_count": null,
   "metadata": {},
   "outputs": [],
   "source": []
  }
 ],
 "metadata": {
  "kernelspec": {
   "display_name": "Python 2",
   "language": "python",
   "name": "python2"
  },
  "language_info": {
   "codemirror_mode": {
    "name": "ipython",
    "version": 2
   },
   "file_extension": ".py",
   "mimetype": "text/x-python",
   "name": "python",
   "nbconvert_exporter": "python",
   "pygments_lexer": "ipython2",
   "version": "2.7.15"
  }
 },
 "nbformat": 4,
 "nbformat_minor": 2
}
